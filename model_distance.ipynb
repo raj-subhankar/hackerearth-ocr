{
 "cells": [
  {
   "cell_type": "code",
   "execution_count": 1,
   "metadata": {},
   "outputs": [],
   "source": [
    "import numpy as np\n",
    "import mxnet as mx\n",
    "import difflib\n",
    "\n",
    "from handwriting_line_recognition import Network as BiLSTMNetwork\n",
    "from utils.noisy_forms_dataset import Noisy_forms_dataset\n",
    "from utils.ngram_dataset import Ngram_dataset\n",
    "from utils.iam_dataset import resize_image"
   ]
  },
  {
   "cell_type": "code",
   "execution_count": 2,
   "metadata": {},
   "outputs": [],
   "source": [
    "line_image_size = (30, 400)\n",
    "def handwriting_recognition_transform(image):\n",
    "    image, _ = resize_image(image, line_image_size)\n",
    "    image = mx.nd.array(image)/255.\n",
    "    image = (image - 0.942532484060557) / 0.15926149044640417\n",
    "    image = image.as_in_context(ctx)\n",
    "    image = image.expand_dims(0).expand_dims(0)\n",
    "    return image\n",
    "\n",
    "def get_ns(train):\n",
    "    network = BiLSTMNetwork(rnn_hidden_states=128, rnn_layers=2, ctx=ctx)\n",
    "    # params = mx.ndarray.load(\"model_checkpoint/handwriting_line_good.params\")\n",
    "    # print(params.keys())\n",
    "    network.load_params(\"models/handwriting_line_recognition2.params\", ctx=ctx)\n",
    "\n",
    "    def noise_source_transform(image, text):\n",
    "        image = handwriting_recognition_transform(image)\n",
    "        output = network(image)\n",
    "        predict_probs = output.softmax().asnumpy()\n",
    "        return predict_probs\n",
    "    ns = Noisy_forms_dataset(noise_source_transform, train=train, name=\"OCR_noise2\")\n",
    "    return ns"
   ]
  },
  {
   "cell_type": "code",
   "execution_count": 3,
   "metadata": {},
   "outputs": [],
   "source": [
    "ctx = mx.gpu(0)"
   ]
  },
  {
   "cell_type": "code",
   "execution_count": 4,
   "metadata": {},
   "outputs": [
    {
     "name": "stderr",
     "output_type": "stream",
     "text": [
      "/home/ubuntu/anaconda3/envs/mxnet_p36/lib/python3.6/site-packages/mxnet/gluon/block.py:413: UserWarning: load_params is deprecated. Please use load_parameters.\n",
      "  warnings.warn(\"load_params is deprecated. Please use load_parameters.\")\n"
     ]
    }
   ],
   "source": [
    "train_ns = get_ns(train=True)\n",
    "ng_train_ds = Ngram_dataset(train_ns, \"word_5train\", output_type=\"word\", n=5)"
   ]
  },
  {
   "cell_type": "code",
   "execution_count": 14,
   "metadata": {},
   "outputs": [],
   "source": [
    "insertions = []\n",
    "deletions = []\n",
    "substitutions = []\n",
    "\n",
    "for i in range(len(ng_train_ds)):\n",
    "    _, _, noisy, actual = ng_train_ds[i]\n",
    "    diffs = []\n",
    "    for diff in difflib.ndiff(noisy, actual):\n",
    "        if diff[0] == \"+\" or diff[0] == \"-\":\n",
    "            diffs.append(diff)\n",
    "    if len(diffs) == 1:\n",
    "        if diffs[0][0] == \"+\":\n",
    "            insertions.append(diffs[0][-1])\n",
    "        if diffs[0][0] == \"-\":\n",
    "            deletions.append(diffs[0][-1])\n",
    "    if len(diffs) == 2:\n",
    "        if diffs[0][0] == \"+\" and diffs[1][0] == \"-\" or diffs[0][0] == \"-\" and diffs[1][0] == \"+\":\n",
    "            changes1 = (diffs[0][-1], diffs[1][-1])\n",
    "            changes2 = (diffs[1][-1], diffs[0][-1])\n",
    "            substitutions.append(changes1)\n",
    "            substitutions.append(changes2)"
   ]
  },
  {
   "cell_type": "code",
   "execution_count": null,
   "metadata": {},
   "outputs": [],
   "source": [
    "insertions = []\n",
    "deletions = []\n",
    "substitutions = []\n",
    "\n",
    "for i in range(len(ng_train_ds)):\n",
    "    _, _, noisy, actual = ng_train_ds[i]\n",
    "    seqm = difflib.SequenceMatcher(None, noisy, actual)\n",
    "    for opcode, a0, a1, b0, b1 in seqm.get_opcodes():\n",
    "        if opcode == 'equal':\n",
    "            output.append(seqm.a[a0:a1])\n",
    "        elif opcode == 'insert':\n",
    "            for char in seqm.b[b0:b1]:\n",
    "                insertions.append(char)\n",
    "        elif opcode == 'delete':\n",
    "            for char in seqm.a[a0:a1]:\n",
    "                deletions.append(char)\n",
    "        elif opcode == 'replace':\n",
    "            # seqm.a[a0:a1] -> seqm.b[b0:b1]\n",
    "            if len(seqm.a[a0:a1]) == len(seqm.b[b0:b1]):\n",
    "                for charA, charB in zip(seqm.a[a0:a1], seqm.b[b0:b1]):\n",
    "                    substitutions.append((charA, charB))\n",
    "        else:\n",
    "            pass"
   ]
  },
  {
   "cell_type": "code",
   "execution_count": 15,
   "metadata": {},
   "outputs": [
    {
     "name": "stdout",
     "output_type": "stream",
     "text": [
      "[ 1.          1.          1.          1.          1.          1.          1.\n",
      "  1.          1.          1.          1.          1.          1.          1.\n",
      "  1.          1.          1.          1.          1.          1.          1.\n",
      "  1.          1.          1.          1.          1.          1.          1.\n",
      "  1.          1.          1.          1.          1.          1.          1.\n",
      "  1.          1.          1.          1.          0.05        1.          0.5\n",
      "  1.          1.          0.04        1.          0.01785714  1.          1.\n",
      "  0.33333333  1.          1.          1.          1.          1.          1.\n",
      "  1.          0.5         0.5         1.          1.          1.          1.\n",
      "  1.          1.          1.          1.          1.          1.          1.\n",
      "  1.          1.          1.          1.          1.          1.          1.\n",
      "  0.5         1.          1.          1.          1.          1.          0.5\n",
      "  1.          1.          1.          1.          1.          1.          1.\n",
      "  1.          1.          1.          1.          1.          1.          0.03125\n",
      "  0.5         0.05882353  0.06666667  0.00584795  0.06666667  0.5\n",
      "  0.02702703  0.03225806  1.          0.33333333  0.015625    0.25        0.04\n",
      "  0.02222222  0.5         1.          0.00862069  0.01694915  0.02173913\n",
      "  0.14285714  0.33333333  1.          1.          0.2         1.          1.\n",
      "  1.          1.          1.          1.        ]\n"
     ]
    }
   ],
   "source": [
    "insertion_dict = {}\n",
    "for insertion in insertions:\n",
    "    if insertion not in insertion_dict:\n",
    "        insertion_dict[insertion] = 0\n",
    "    insertion_dict[insertion] += 1\n",
    "insertion_costs = np.ones(128, dtype=np.float64)\n",
    "for key in insertion_dict:\n",
    "    insertion_costs[ord(key)] = 1/insertion_dict[key]\n",
    "print(insertion_costs)\n",
    "np.savetxt(\"models/insertion_costs.txt\", insertion_costs, fmt='%4.6f')"
   ]
  },
  {
   "cell_type": "code",
   "execution_count": 16,
   "metadata": {},
   "outputs": [
    {
     "name": "stdout",
     "output_type": "stream",
     "text": [
      "{'o': 47, 'n': 65, 't': 53, 'i': 53, 'e': 44, 'u': 30, 'r': 50, 'g': 3, ';': 13, 'v': 4, 'w': 10, 'l': 33, 's': 45, 'c': 9, 'h': 7, 'd': 5, 'f': 9, '.': 5, 'y': 4, 'a': 13, 'm': 17, 'q': 2, 'M': 4, 'k': 1, 'p': 5, \"'\": 2, 'C': 1, '&': 1, 'L': 1, '3': 2, ',': 1, 'B': 1}\n",
      "[ 1.          1.          1.          1.          1.          1.          1.\n",
      "  1.          1.          1.          1.          1.          1.          1.\n",
      "  1.          1.          1.          1.          1.          1.          1.\n",
      "  1.          1.          1.          1.          1.          1.          1.\n",
      "  1.          1.          1.          1.          1.          1.          1.\n",
      "  1.          1.          1.          1.          0.5         1.          1.\n",
      "  1.          1.          1.          1.          0.2         1.          1.\n",
      "  1.          1.          0.5         1.          1.          1.          1.\n",
      "  1.          1.          1.          0.07692308  1.          1.          1.\n",
      "  1.          1.          1.          1.          1.          1.          1.\n",
      "  1.          1.          1.          1.          1.          1.          1.\n",
      "  0.25        1.          1.          1.          1.          1.          1.\n",
      "  1.          1.          1.          1.          1.          1.          1.\n",
      "  1.          1.          1.          1.          1.          1.\n",
      "  0.07692308  1.          0.11111111  0.2         0.02272727  0.11111111\n",
      "  0.33333333  0.14285714  0.01886792  1.          1.          0.03030303\n",
      "  0.05882353  0.01538462  0.0212766   0.2         0.5         0.02\n",
      "  0.02222222  0.01886792  0.03333333  0.25        0.1         1.          0.25\n",
      "  1.          1.          1.          1.          1.          1.        ]\n"
     ]
    }
   ],
   "source": [
    "deletion_dict = {}\n",
    "for deletion in deletions:\n",
    "    if deletion not in deletion_dict:\n",
    "        deletion_dict[deletion] = 0\n",
    "    deletion_dict[deletion] += 1\n",
    "print(deletion_dict)\n",
    "deletion_costs = np.ones(128, dtype=np.float64)\n",
    "for key in deletion_dict:\n",
    "    deletion_costs[ord(key)] = 1/deletion_dict[key]\n",
    "print(deletion_costs)\n",
    "np.savetxt(\"models/deletion_costs.txt\", deletion_costs, fmt='%4.6f')"
   ]
  },
  {
   "cell_type": "code",
   "execution_count": 17,
   "metadata": {},
   "outputs": [
    {
     "name": "stdout",
     "output_type": "stream",
     "text": [
      "{('o', 'a'): 278, ('a', 'o'): 278, ('r', 'e'): 6, ('e', 'r'): 6, ('n', 'm'): 38, ('m', 'n'): 38, ('c', 'r'): 7, ('r', 'c'): 7, ('g', 'f'): 4, ('f', 'g'): 4, ('c', 's'): 10, ('s', 'c'): 10, ('l', 'J'): 4, ('J', 'l'): 4, ('s', 'e'): 20, ('e', 's'): 20, ('U', 'L'): 1, ('L', 'U'): 1, ('u', 'e'): 19, ('e', 'u'): 19, ('o', 'e'): 94, ('e', 'o'): 94, ('n', 'l'): 3, ('l', 'n'): 3, ('t', 'f'): 32, ('f', 't'): 32, ('r', 'v'): 39, ('v', 'r'): 39, ('r', 'i'): 7, ('i', 'r'): 7, ('l', 'k'): 17, ('k', 'l'): 17, ('s', 'r'): 69, ('r', 's'): 69, ('a', 'e'): 129, ('e', 'a'): 129, ('n', 'a'): 19, ('a', 'n'): 19, ('y', 'f'): 1, ('f', 'y'): 1, ('i', 'e'): 7, ('e', 'i'): 7, ('o', 'c'): 34, ('c', 'o'): 34, ('W', 'K'): 1, ('K', 'W'): 1, ('r', 't'): 18, ('t', 'r'): 18, ('M', 'U'): 4, ('U', 'M'): 4, ('s', 'x'): 10, ('x', 's'): 10, ('n', 't'): 1, ('t', 'n'): 1, ('1', 'H'): 1, ('H', '1'): 1, ('e', 'l'): 12, ('l', 'e'): 12, ('d', 't'): 11, ('t', 'd'): 11, ('d', 'c'): 9, ('c', 'd'): 9, ('w', 'm'): 14, ('m', 'w'): 14, ('m', 'r'): 8, ('r', 'm'): 8, ('p', 'y'): 2, ('y', 'p'): 2, ('t', 'k'): 19, ('k', 't'): 19, ('l', 'c'): 1, ('c', 'l'): 1, ('e', 'c'): 42, ('c', 'e'): 42, ('n', 's'): 24, ('s', 'n'): 24, ('f', 'b'): 1, ('b', 'f'): 1, ('h', 't'): 33, ('t', 'h'): 33, ('o', 'J'): 1, ('J', 'o'): 1, ('l', 't'): 62, ('t', 'l'): 62, ('h', 'u'): 9, ('u', 'h'): 9, ('r', 'p'): 10, ('p', 'r'): 10, ('m', '.'): 9, ('.', 'm'): 9, ('h', 'l'): 15, ('l', 'h'): 15, ('g', 'y'): 15, ('y', 'g'): 15, ('a', 'A'): 7, ('A', 'a'): 7, ('d', 'k'): 1, ('k', 'd'): 1, ('s', 't'): 13, ('t', 's'): 13, ('w', 'e'): 12, ('e', 'w'): 12, ('h', 'k'): 21, ('k', 'h'): 21, ('c', 'i'): 3, ('i', 'c'): 3, ('i', 'l'): 4, ('l', 'i'): 4, ('a', 'I'): 1, ('I', 'a'): 1, ('t', 'H'): 9, ('H', 't'): 9, ('u', 'k'): 4, ('k', 'u'): 4, ('p', 'g'): 4, ('g', 'p'): 4, ('g', 'e'): 1, ('e', 'g'): 1, ('l', '.'): 1, ('.', 'l'): 1, ('u', 'w'): 8, ('w', 'u'): 8, ('n', 'u'): 46, ('u', 'n'): 46, ('a', 'y'): 1, ('y', 'a'): 1, ('h', 'n'): 13, ('n', 'h'): 13, ('r', 'l'): 4, ('l', 'r'): 4, ('n', 'r'): 103, ('r', 'n'): 103, ('s', 'o'): 30, ('o', 's'): 30, ('A', '&'): 4, ('&', 'A'): 4, ('I', 'n'): 1, ('n', 'I'): 1, ('a', 'd'): 5, ('d', 'a'): 5, ('o', 'r'): 11, ('r', 'o'): 11, ('u', 'a'): 26, ('a', 'u'): 26, ('l', 'b'): 14, ('b', 'l'): 14, ('n', 'k'): 2, ('k', 'n'): 2, ('C', 'G'): 2, ('G', 'C'): 2, ('w', 'c'): 1, ('c', 'w'): 1, ('G', 'o'): 1, ('o', 'G'): 1, ('O', 'E'): 1, ('E', 'O'): 1, ('d', 's'): 8, ('s', 'd'): 8, ('.', ','): 6, (',', '.'): 6, ('b', 's'): 5, ('s', 'b'): 5, ('u', 'r'): 5, ('r', 'u'): 5, ('c', 'a'): 7, ('a', 'c'): 7, ('i', 't'): 3, ('t', 'i'): 3, ('u', 'm'): 9, ('m', 'u'): 9, ('M', '1'): 2, ('1', 'M'): 2, ('r', 'h'): 3, ('h', 'r'): 3, ('v', 's'): 5, ('s', 'v'): 5, ('w', 'v'): 7, ('v', 'w'): 7, ('i', 'h'): 5, ('h', 'i'): 5, ('H', 'l'): 1, ('l', 'H'): 1, ('N', 'W'): 3, ('W', 'N'): 3, ('l', 'L'): 3, ('L', 'l'): 3, ('i', '1'): 1, ('1', 'i'): 1, ('w', 'o'): 2, ('o', 'w'): 2, ('l', 'p'): 1, ('p', 'l'): 1, ('u', 'b'): 1, ('b', 'u'): 1, ('b', 'D'): 2, ('D', 'b'): 2, ('c', 'n'): 12, ('n', 'c'): 12, ('h', 'b'): 10, ('b', 'h'): 10, ('s', 'a'): 13, ('a', 's'): 13, ('H', 'M'): 2, ('M', 'H'): 2, ('e', 't'): 3, ('t', 'e'): 3, ('u', 'v'): 5, ('v', 'u'): 5, ('w', 'h'): 3, ('h', 'w'): 3, ('d', 'J'): 1, ('J', 'd'): 1, ('S', 's'): 8, ('s', 'S'): 8, ('W', 'T'): 1, ('T', 'W'): 1, ('o', 'u'): 11, ('u', 'o'): 11, ('q', 'g'): 2, ('g', 'q'): 2, ('s', 'y'): 1, ('y', 's'): 1, ('s', 'h'): 2, ('h', 's'): 2, ('A', 't'): 4, ('t', 'A'): 4, ('i', 'n'): 1, ('n', 'i'): 1, ('I', 'o'): 1, ('o', 'I'): 1, ('n', 'o'): 7, ('o', 'n'): 7, ('f', 'P'): 2, ('P', 'f'): 2, ('I', '('): 1, ('(', 'I'): 1, (',', 'y'): 3, ('y', ','): 3, ('p', 'i'): 1, ('i', 'p'): 1, ('l', 's'): 6, ('s', 'l'): 6, ('i', 'a'): 9, ('a', 'i'): 9, ('m', 'M'): 2, ('M', 'm'): 2, ('n', 'e'): 8, ('e', 'n'): 8, ('m', 'e'): 3, ('e', 'm'): 3, ('h', 'S'): 1, ('S', 'h'): 1, ('t', 'K'): 1, ('K', 't'): 1, ('i', 's'): 4, ('s', 'i'): 4, ('w', 'a'): 2, ('a', 'w'): 2, ('i', 'o'): 2, ('o', 'i'): 2, ('R', 'b'): 2, ('b', 'R'): 2, ('w', 'W'): 3, ('W', 'w'): 3, ('m', ','): 1, (',', 'm'): 1, ('g', 's'): 1, ('s', 'g'): 1, ('j', 'g'): 1, ('g', 'j'): 1, ('t', 'b'): 8, ('b', 't'): 8, ('6', '8'): 1, ('8', '6'): 1, ('1', 'W'): 1, ('W', '1'): 1, ('s', 'z'): 2, ('z', 's'): 2, ('r', 'x'): 1, ('x', 'r'): 1, ('f', 'H'): 1, ('H', 'f'): 1, ('f', 'F'): 8, ('F', 'f'): 8, ('B', 'b'): 3, ('b', 'B'): 3, ('i', 'I'): 4, ('I', 'i'): 4, ('t', 'S'): 1, ('S', 't'): 1, ('r', 'F'): 1, ('F', 'r'): 1, ('f', 'p'): 3, ('p', 'f'): 3, ('T', 't'): 3, ('t', 'T'): 3, ('d', 'l'): 10, ('l', 'd'): 10, ('T', 'M'): 2, ('M', 'T'): 2, ('i', ':'): 1, (':', 'i'): 1, ('n', '.'): 1, ('.', 'n'): 1, ('c', 'z'): 2, ('z', 'c'): 2, (',', ';'): 1, (';', ','): 1, ('n', 'x'): 1, ('x', 'n'): 1, ('i', ';'): 1, (';', 'i'): 1, ('A', 'f'): 1, ('f', 'A'): 1, ('o', '0'): 1, ('0', 'o'): 1, ('e', 'e'): 2, ('l', 'f'): 6, ('f', 'l'): 6, ('t', '7'): 1, ('7', 't'): 1, ('u', 's'): 2, ('s', 'u'): 2, ('N', 'V'): 1, ('V', 'N'): 1, ('F', 'E'): 2, ('E', 'F'): 2, ('u', 'l'): 6, ('l', 'u'): 6, ('w', 'r'): 4, ('r', 'w'): 4, ('L', 'I'): 1, ('I', 'L'): 1, ('h', 'L'): 2, ('L', 'h'): 2, ('W', 'B'): 1, ('B', 'W'): 1, ('u', 'c'): 2, ('c', 'u'): 2, ('d', 'H'): 1, ('H', 'd'): 1, ('n', 'w'): 5, ('w', 'n'): 5, ('C', 'c'): 1, ('c', 'C'): 1, ('i', 'k'): 1, ('k', 'i'): 1, ('c', 'k'): 1, ('k', 'c'): 1, ('a', 'k'): 1, ('k', 'a'): 1, ('B', 's'): 3, ('s', 'B'): 3, ('P', 'R'): 2, ('R', 'P'): 2, ('0', '8'): 1, ('8', '0'): 1, ('i', 'u'): 7, ('u', 'i'): 7, ('o', 'd'): 5, ('d', 'o'): 5, ('s', '.'): 2, ('.', 's'): 2, ('f', 'r'): 1, ('r', 'f'): 1, ('r', 'r'): 2, ('M', 'A'): 3, ('A', 'M'): 3, ('B', 'S'): 1, ('S', 'B'): 1, ('c', 't'): 1, ('t', 'c'): 1, ('6', 'B'): 1, ('B', '6'): 1, ('C', 'F'): 2, ('F', 'C'): 2, ('p', 'e'): 3, ('e', 'p'): 3, ('o', 'v'): 2, ('v', 'o'): 2, ('n', 'b'): 1, ('b', 'n'): 1, ('r', 'a'): 5, ('a', 'r'): 5, ('y', 'o'): 1, ('o', 'y'): 1, ('r', 'j'): 1, ('j', 'r'): 1, ('m', 'h'): 2, ('h', 'm'): 2, ('i', \"'\"): 1, (\"'\", 'i'): 1, ('i', 'M'): 1, ('M', 'i'): 1, ('d', 'e'): 2, ('e', 'd'): 2, ('f', 'J'): 1, ('J', 'f'): 1, ('f', 's'): 1, ('s', 'f'): 1, ('s', ','): 2, (',', 's'): 2, ('m', 'a'): 1, ('a', 'm'): 1, ('1', '/'): 1, ('/', '1'): 1, ('I', 'l'): 1, ('l', 'I'): 1, ('t', 'g'): 1, ('g', 't'): 1, ('o', 'O'): 2, ('O', 'o'): 2, ('n', 'v'): 10, ('v', 'n'): 10, ('&', \"'\"): 1, (\"'\", '&'): 1, ('w', 's'): 2, ('s', 'w'): 2, ('t', 'I'): 3, ('I', 't'): 3, ('b', 'L'): 1, ('L', 'b'): 1, ('A', 'H'): 1, ('H', 'A'): 1, ('f', 'Y'): 1, ('Y', 'f'): 1, ('e', 'x'): 1, ('x', 'e'): 1, ('3', '9'): 1, ('9', '3'): 1, ('t', 'v'): 1, ('v', 't'): 1, ('m', 't'): 1, ('t', 'm'): 1, ('G', 'c'): 1, ('c', 'G'): 1, ('w', 'b'): 1, ('b', 'w'): 1, ('e', 'z'): 1, ('z', 'e'): 1, ('u', 'x'): 1, ('x', 'u'): 1, ('O', 'A'): 1, ('A', 'O'): 1, ('o', 'b'): 2, ('b', 'o'): 2, ('a', 'h'): 1, ('h', 'a'): 1, ('l', 'N'): 1, ('N', 'l'): 1, (',', '\"'): 1, ('\"', ','): 1, ('i', 'j'): 3, ('j', 'i'): 3, ('l', \"'\"): 1, (\"'\", 'l'): 1, ('a', 'N'): 1, ('N', 'a'): 1, ('m', 'k'): 1, ('k', 'm'): 1, ('b', 'r'): 1, ('r', 'b'): 1, ('T', 'P'): 1, ('P', 'T'): 1, ('5', 'S'): 1, ('S', '5'): 1, ('i', 'w'): 1, ('w', 'i'): 1, ('r', 'P'): 1, ('P', 'r'): 1, ('w', 'd'): 1, ('d', 'w'): 1, ('p', 'o'): 2, ('o', 'p'): 2, ('d', 'v'): 1, ('v', 'd'): 1, ('A', 'I'): 1, ('I', 'A'): 1, ('R', 'l'): 1, ('l', 'R'): 1, ('R', 'L'): 2, ('L', 'R'): 2, ('F', 'P'): 2, ('P', 'F'): 2, ('p', 'b'): 2, ('b', 'p'): 2, ('b', 'k'): 2, ('k', 'b'): 2, ('s', 'j'): 1, ('j', 's'): 1, ('t', 'L'): 1, ('L', 't'): 1, ('g', 'a'): 2, ('a', 'g'): 2, ('W', 'U'): 2, ('U', 'W'): 2, ('A', 'p'): 1, ('p', 'A'): 1, ('w', 't'): 1, ('t', 'w'): 1, ('b', 'd'): 1, ('d', 'b'): 1, ('O', 'D'): 1, ('D', 'O'): 1, ('a', 'b'): 2, ('b', 'a'): 2, ('o', 'l'): 1, ('l', 'o'): 1, ('a', 'p'): 1, ('p', 'a'): 1, ('m', 'c'): 1, ('c', 'm'): 1, ('g', 'z'): 1, ('z', 'g'): 1, ('1', ','): 1, (',', '1'): 1, ('i', '.'): 1, ('.', 'i'): 1, ('O', 'I'): 1, ('I', 'O'): 1, ('u', 'y'): 1, ('y', 'u'): 1, ('n', 'n'): 2, ('o', '6'): 1, ('6', 'o'): 1, ('l', '1'): 1, ('1', 'l'): 1}\n",
      "[[ 1.  1.  1. ...,  1.  1.  1.]\n",
      " [ 1.  1.  1. ...,  1.  1.  1.]\n",
      " [ 1.  1.  1. ...,  1.  1.  1.]\n",
      " ..., \n",
      " [ 1.  1.  1. ...,  1.  1.  1.]\n",
      " [ 1.  1.  1. ...,  1.  1.  1.]\n",
      " [ 1.  1.  1. ...,  1.  1.  1.]]\n"
     ]
    }
   ],
   "source": [
    "substitution_dict = {}\n",
    "for subs in substitutions:\n",
    "    if subs not in substitution_dict:\n",
    "        substitution_dict[subs] = 0\n",
    "    substitution_dict[subs] += 1\n",
    "print(substitution_dict)\n",
    "substitute_costs = np.ones((128, 128), dtype=np.float64)\n",
    "for key in substitution_dict:\n",
    "    key1, key2 = key\n",
    "    substitute_costs[ord(key1), ord(key2)] = 1/substitution_dict[key]\n",
    "print(substitute_costs)\n",
    "np.savetxt(\"models/substitute_costs.txt\", substitute_costs, fmt='%4.6f')"
   ]
  },
  {
   "cell_type": "code",
   "execution_count": null,
   "metadata": {},
   "outputs": [],
   "source": []
  }
 ],
 "metadata": {
  "kernelspec": {
   "display_name": "Environment (conda_mxnet_p36)",
   "language": "python",
   "name": "conda_mxnet_p36"
  },
  "language_info": {
   "codemirror_mode": {
    "name": "ipython",
    "version": 3
   },
   "file_extension": ".py",
   "mimetype": "text/x-python",
   "name": "python",
   "nbconvert_exporter": "python",
   "pygments_lexer": "ipython3",
   "version": "3.6.4"
  }
 },
 "nbformat": 4,
 "nbformat_minor": 2
}
